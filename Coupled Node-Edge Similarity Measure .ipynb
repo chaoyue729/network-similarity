{
 "cells": [
  {
   "cell_type": "code",
   "execution_count": 2,
   "metadata": {
    "collapsed": false
   },
   "outputs": [
    {
     "name": "stdout",
     "output_type": "stream",
     "text": [
      "test the importing\n"
     ]
    }
   ],
   "source": [
    "import test_import\n",
    "test_import.test_print()"
   ]
  },
  {
   "cell_type": "code",
   "execution_count": 2,
   "metadata": {
    "collapsed": false
   },
   "outputs": [],
   "source": [
    "import numpy as np\n",
    "from scipy.sparse import csr_matrix\n",
    "from scipy import sparse\n",
    "import networkx as nx\n",
    "from matplotlib import pyplot as plt\n",
    "import seaborn\n",
    "%matplotlib inline"
   ]
  },
  {
   "cell_type": "markdown",
   "metadata": {},
   "source": [
    "# Documentation Notes and Implementation Decisions\n",
    "\n",
    "- User is not allowed to give an initial y0 value so we are guaranteed to satisfy the conditions of Theorem 2.1\n",
    "- Initial x0 value is optional and defaults to all ones.\n",
    "- Maximum iterations and tolerance values are keyword arguments.\n",
    "- Use vector update version because scipy sparse matrices can do matrix-vector multiplication efficiently, but with the matrix updating you're multiplying a dense matrix with a sparse matrix a LOT."
   ]
  },
  {
   "cell_type": "code",
   "execution_count": 3,
   "metadata": {
    "collapsed": false
   },
   "outputs": [],
   "source": [
    "class simscore(object):\n",
    "    \"\"\"\n",
    "    Calculate similarity scores between nodes in G_A and G_B using the \n",
    "    node-edge scoring method of Zager and Verghese.\n",
    "    \n",
    "    G_A and G_B are NetworkX graphs.\n",
    "    \"\"\"\n",
    "    \n",
    "    def __init__(self, G_A, G_B, x0 = None, tol=1e-6, maxiters=10):\n",
    "        \n",
    "        self.G_A = G_A\n",
    "        self.G_B = G_B\n",
    "        self.x0 = x0\n",
    "        self.y0 = None\n",
    "        self.G = None\n",
    "        self.tol = tol\n",
    "        self.maxiters = maxiters\n",
    "        \n",
    "        # Get the order and size of each graph\n",
    "        n_A, m_A = G_A.number_of_nodes(), G_A.number_of_edges()\n",
    "        n_B, m_B = G_B.number_of_nodes(), G_B.number_of_edges()\n",
    "        \n",
    "        # Get the source and terminus edge matrices \n",
    "        \n",
    "    def _initialize(self):\n",
    "        \"\"\"\n",
    "        Get initial conditions and calculate the update matrix G if\n",
    "        method == 'vector'. \n",
    "        \n",
    "        If x0 is not specified (that is, no initial similarity information\n",
    "        is known), both x0 and y0 are initialized as all ones.\n",
    "        \"\"\"\n",
    "            \n",
    "        self.G_T = sparse.kron(self.As, self.Bs) + sparse.kron(self.At, self.Bt)\n",
    "        self.G = self.G_T\n",
    "\n",
    "        if self.x0 is None:\n",
    "            self.x0 = np.ones(self.n_B*self.n_A)\n",
    "            self.y0 = np.ones(self.m_B*self.m_A)\n",
    "\n",
    "        else:\n",
    "            self.y0 = self.G*self.x0\n",
    "    \n",
    "    def get_scores(self):\n",
    "        \"\"\"Get the similarity scores to given tolerance or maxiters.\"\"\"\n",
    "        \n",
    "        self._initialize()\n",
    "        self.x, self.y = self.G_T.dot(self.y0), self.G.dot(self.x0)\n",
    "        \n",
    "        # Eventually fix this to be tolerance based\n",
    "        for i in xrange(self.maxiters):\n",
    "            self.x, self.y = self.G_T.dot(self.y), self.G.dot(self.x)\n",
    "    \n",
    "    def display_scores(self):\n",
    "        # Display both graphs (kwarg)\n",
    "        # Display similarity matrix\n",
    "            # or some other illuminating visualization for larger matrices\n",
    "        pass"
   ]
  },
  {
   "cell_type": "code",
   "execution_count": null,
   "metadata": {
    "collapsed": false
   },
   "outputs": [
    {
     "name": "stdout",
     "output_type": "stream",
     "text": [
      "[1, 2, 3, 4]\n",
      "[(1, 3), (2, 1), (2, 3), (3, 1), (3, 4), (4, 1), (4, 2)]\n"
     ]
    },
    {
     "data": {
      "image/png": "[encoded data removed]",
      "text/plain": [
       "<matplotlib.figure.Figure at 0xec88198>"
      ]
     },
     "metadata": {},
     "output_type": "display_data"
    }
   ],
   "source": [
    "G1 = nx.DiGraph()\n",
    "G1.add_edges_from([(1,3),(3,1),(2,1),(2,3),(4,2),(3,4),(4,1)])\n",
    "print G1.nodes()\n",
    "print G1.edges()\n",
    "\n",
    "\n",
    "nx.draw_shell(G1)\n",
    "plt.show()"
   ]
  },
  {
   "cell_type": "code",
   "execution_count": null,
   "metadata": {
    "collapsed": false
   },
   "outputs": [
    {
     "name": "stdout",
     "output_type": "stream",
     "text": [
      "(30, 373)\n",
      "\n",
      " Test the addition/abs method:\n",
      "\n",
      "The slowest run took 4.30 times longer than the fastest. This could mean that an intermediate result is being cached.\n",
      "1000 loops, best of 3: 190 µs per loop\n",
      "1000 loops, best of 3: 325 µs per loop\n",
      "10000 loops, best of 3: 157 µs per loop\n",
      "1000 loops, best of 3: 751 µs per loop\n",
      "\n",
      " Test the max/min method:\n",
      "\n",
      "10000 loops, best of 3: 157 µs per loop"
     ]
    }
   ],
   "source": [
    "G = nx.DiGraph()\n",
    "G.add_edges_from([(np.random.randint(30),np.random.randint(30)) for i in xrange(500)])\n",
    "\n",
    "G.remove_edges_from(G.selfloop_edges())\n",
    "\n",
    "A = nx.incidence_matrix(G, oriented=True)\n",
    "print A.shape\n",
    "\n",
    "print \"\\n Test the addition/abs method:\\n\"\n",
    "%timeit np.abs(A)\n",
    "B = np.abs(A)\n",
    "%timeit A + B\n",
    "C = A + B\n",
    "%timeit 0.5*C\n",
    "%timeit 0.5*(A + np.abs(A))\n",
    "\n",
    "print \"\\n Test the max/min method:\\n\"\n",
    "%timeit sparse.csr_matrix((8,6))\n",
    "%timeit A.maximum(sparse.csr_matrix((8,6)))\n",
    "# As = positive part, At = negative part"
   ]
  },
  {
   "cell_type": "code",
   "execution_count": null,
   "metadata": {
    "collapsed": true
   },
   "outputs": [],
   "source": []
  }
 ],
 "metadata": {
  "kernelspec": {
   "display_name": "Python 2",
   "language": "python",
   "name": "python2"
  },
  "language_info": {
   "codemirror_mode": {
    "name": "ipython",
    "version": 2
   },
   "file_extension": ".py",
   "mimetype": "text/x-python",
   "name": "python",
   "nbconvert_exporter": "python",
   "pygments_lexer": "ipython2",
   "version": "2.7.13"
  }
 },
 "nbformat": 4,
 "nbformat_minor": 0
}
