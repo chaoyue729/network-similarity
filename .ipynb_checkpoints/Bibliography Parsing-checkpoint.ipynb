{
 "cells": [
  {
   "cell_type": "code",
   "execution_count": 7,
   "metadata": {
    "collapsed": false,
    "scrolled": true
   },
   "outputs": [],
   "source": [
    "import csv\n",
    "import re\n",
    "import glob\n",
    "import time\n",
    "import urllib\n",
    "import gspread\n",
    "import requests\n",
    "import numpy as np\n",
    "\n",
    "import importlib\n",
    "import paperdatabase\n",
    "from matplotlib import pyplot as plt\n",
    "from bs4 import BeautifulSoup, Comment, NavigableString"
   ]
  },
  {
   "cell_type": "code",
   "execution_count": 15,
   "metadata": {
    "collapsed": false
   },
   "outputs": [
    {
     "name": "stdout",
     "output_type": "stream",
     "text": [
      "Frank Emmert-Streib, Matthias Dehmer, Yongtang Shi, Fifty years of graph matching network alignment and network comparison\n",
      "H. A. Almohamad, S. O. Duffuaa, A linear programming approach for the weighted graph matching problem\n",
      "H. Bunke, Recent developments in graph matching\n",
      "D. Conte, P. Foggia, C. Sansone, M. Vento, Thirty years of graph matching in pattern recognition\n",
      "Roded Sharan, Trey Ideker, Modeling cellular machinery through biological network comparison\n",
      "Kristina Schadler, Fritz Wysotzki, A connectionist approach to structural similarity determination as a basis of clustering classification and feature detection\n",
      "Bohdan Zelinka, On a certain distance between isomorphism classes of graphs\n",
      "Thomas Gartner, Peter Flach, Stefan Wrobel, On Graph Kernels: Hardness Results and Efficient Alternatives\n",
      "Tamas Horvath, Thomas Gartner, Stefan Wrobel, Cyclic pattern kernels for predictive graph mining\n",
      "Mueller LA, Kugler KG, Netzer M, Graber A, Dehmer M., A network-based approach to classify the three domains of life\n",
      "Neyshabur B, Khadem A, Hashemifar S, Arab SS, NETAL: a new graph-based method for global alignment of protein-protein interaction networks\n",
      "Mingxi Zhang, Hao Hu, Zhenying He, Liping Gao, Liujie Sun, A comprehensive structural-based similarity measure in directed graphs\n",
      "Vikram Saraph, Tijana Milenkovic, MAGNA: Maximizing Accuracy in Global Network Alignment\n",
      "Wayne Hayes, Kai Sun, Natasa Przulj, Graphlet-based measures are suitable for biological network comparison\n",
      "Natasa Przulj, Biological network comparison using graphlet degree distribution\n",
      "Tiago Rito, Zi Wang, Charlotte M. Deane, Gesine Reinert, How threshold behaviour affects the use of subgraphs for network comparison\n",
      "Waqar Ali, Tiago Rito, Gesine Reinert, Fengzhu Sun, Charlotte M. Deane, Alignment-free protein interaction network comparison\n",
      "F. Emmert-Streib, M. Dehmer, Networks for systems biology: conceptual connection of data and function\n",
      "Les Kitchen, Relaxation applied to matching quantitative relational structures\n",
      "Yasser El-Sonbaty, M. A. Ismail, A new algorithm for subgraph optimal isomorphism\n",
      "Giorgos Kollias, Madan Sathe, Olaf Schenk, Ananth Grama, Fast parallel algorithms for graph similarity and matching\n",
      "Xiaming Chen, Haiyang Wang, Siwei Qiang, Yongkun Wang, Yaohui Jin, Discovering and modeling meta-structures in human behavior from city-scale cellular data\n",
      "Laura A. Zager, George C. Verghese, Graph similarity scoring and matching\n",
      "Jukka-Pekka Onnela, Daniel J. Fenn, Stephen Reid, Mason A. Porter, Peter J. Mucha, Mark D. Fricker, Nick S. Jones, Taxonomies of networks from community structure\n",
      "Alex Radu, Michael Charleston, Node fingerprinting: an efficient heuristic for aligning biological networks\n",
      "P. Erdos, A. Renyi, On random graphs I\n",
      "J. R. Ullmann, An algorithm for subgraph isomorphism\n",
      "Marcello Pelillo, Replicator Equations Maximal Cliques and Graph isomorphism\n",
      "H. Bunke, Error correcting graph matching: on the influence of the underlying cost function\n",
      "Mirtha-Lina Fernandez, Gabriel Valiente, A graph distance metric combining maximum common subgraph and minimum common supergraph\n",
      "Shinji Umeyama, An eigendecomposition approach to weighted graph matching problems\n"
     ]
    }
   ],
   "source": [
    "importlib.reload(paperdatabase)\n",
    "\n",
    "database = paperdatabase.Database()\n",
    "database.fetch_spreadsheet()\n",
    "\n",
    "sheet = database.spreadsheet\n",
    "bibfiles = glob.glob('./bibliographies/*.txt')\n",
    "    \n",
    "for i in range(len(bibfiles)):\n",
    "    with open(bibfiles[i]) as input:\n",
    "        print(\"Check paper\", i, \"of\", len(bibfiles), \"\\n\")\n",
    "        splits = re.split('\\[[0-9]+\\] ', input.read())\n",
    "        head = splits[1].replace('\\n',' ').strip(' ')\n",
    "        p, unique = self.add_paper(head)\n",
    "\n",
    "#print(sheet.get_all_records())"
   ]
  },
  {
   "cell_type": "code",
   "execution_count": null,
   "metadata": {
    "collapsed": true
   },
   "outputs": [],
   "source": []
  }
 ],
 "metadata": {
  "kernelspec": {
   "display_name": "Python 3",
   "language": "python",
   "name": "python3"
  },
  "language_info": {
   "codemirror_mode": {
    "name": "ipython",
    "version": 3
   },
   "file_extension": ".py",
   "mimetype": "text/x-python",
   "name": "python",
   "nbconvert_exporter": "python",
   "pygments_lexer": "ipython3",
   "version": "3.6.2"
  }
 },
 "nbformat": 4,
 "nbformat_minor": 0
}
