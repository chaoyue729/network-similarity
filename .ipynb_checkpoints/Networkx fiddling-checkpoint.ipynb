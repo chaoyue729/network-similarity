{
 "cells": [
  {
   "cell_type": "code",
   "execution_count": 59,
   "metadata": {
    "collapsed": false
   },
   "outputs": [],
   "source": [
    "import paper\n",
    "import database\n",
    "import importlib\n",
    "\n",
    "importlib.reload(database)\n",
    "db = database.Database()\n",
    "\n",
    "citations = [\n",
    "\"M. Adler, M. Mitzenmacher, Towards compressing web graphs, in: In \\\n",
    "Proceedings of the IEEE Data Compression Conference (DCC), 2001, pp. 203–212.\",\n",
    "\"H. Bunke, A graph distance metric based on the maximum common subgraph, \\\n",
    "Pattern Recognit. Lett. 19 (3) (1998) 255–259.\",\n",
    "\"Michele Berlingerio, Danai Koutra, Tina Eliassi-Rad, Christos Faloutsos, \\\n",
    "NetSimile: A Scalable Approach to Size-Independent Network Similarity\"\n",
    "]\n",
    "\n",
    "for citation in citations:\n",
    "    db.add_paper(paper.Paper(), citation)"
   ]
  },
  {
   "cell_type": "code",
   "execution_count": 60,
   "metadata": {
    "collapsed": false
   },
   "outputs": [
    {
     "name": "stdout",
     "output_type": "stream",
     "text": [
      "dict_keys([('Towards compressing Web graphs', None), ('A graph distance metric based on the maximal common subgraph', 1998), ('Network similarity via multiple social theories', 2013)])\n"
     ]
    }
   ],
   "source": [
    "print(db.all_papers.keys())\n",
    "for p_hash in db.all_papers:\n",
    "    print"
   ]
  },
  {
   "cell_type": "code",
   "execution_count": 66,
   "metadata": {
    "collapsed": false
   },
   "outputs": [
    {
     "name": "stdout",
     "output_type": "stream",
     "text": [
      "Vikram Saraph and Tijana Milenković\n",
      "Vikram Saraph and Tijana Milenković\n"
     ]
    }
   ],
   "source": [
    "with open(\"testfile.txt\", 'w', errors='backslashreplace') as output:\n",
    "    mystr = \"Vikram Saraph and Tijana Milenkovi\\u0107\"\n",
    "    output.write(mystr)\n",
    "    mystr = mystr.replace('\\\\', '\\\\\\\\')\n",
    "    output.write(mystr)"
   ]
  },
  {
   "cell_type": "code",
   "execution_count": null,
   "metadata": {
    "collapsed": true
   },
   "outputs": [],
   "source": []
  }
 ],
 "metadata": {
  "kernelspec": {
   "display_name": "Python 3",
   "language": "python",
   "name": "python3"
  },
  "language_info": {
   "codemirror_mode": {
    "name": "ipython",
    "version": 3
   },
   "file_extension": ".py",
   "mimetype": "text/x-python",
   "name": "python",
   "nbconvert_exporter": "python",
   "pygments_lexer": "ipython3",
   "version": "3.6.2"
  }
 },
 "nbformat": 4,
 "nbformat_minor": 0
}
