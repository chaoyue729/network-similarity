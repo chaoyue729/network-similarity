{
 "cells": [
  {
   "cell_type": "markdown",
   "metadata": {},
   "source": [
    "# Meeting Notes for Next Week\n",
    "\n",
    "* I'm trying to do mostly normal academic writing and then fall back into colloquial and word vomit whenever I get stuck on how to phrase something."
   ]
  },
  {
   "cell_type": "markdown",
   "metadata": {},
   "source": [
    "#  Notes\n",
    "\n",
    "* BIG trawl rabbit hole to make sure I'm not missing stuff\n",
    "    * Graph, network, physics, CS, math, sociology, biology, similarity, alignment, matching, isomorphism \n",
    "    * Use the citation network to get an idea of what papers you might want to add, especially since that'll give you a good idea of what's already linking the fields\n",
    "* What am I going to DO with this dataset? Specifically problem attributes and strategies.\n",
    "    * Mathematica visuals will be great\n",
    "    * What other kinds of statistical analysis would be useful? \n",
    "* It's not useful unless I can get other people to use it, so how am I going to do that?\n",
    "    * Pester people once I have preliminary results about how I can make this useful to them?\n",
    "    * Good Github repository and readme\n",
    "    * Edit Wikipedia articles?\n",
    "* Come back to the terrorist network thing at some point? \n",
    "* Fill in your damn spreadsheet\n",
    "* Job planning stuff\n",
    "\n",
    "# Code-Related Next Steps\n",
    " \n",
    "* Get the Mathematica network nicer: include other attributes of nodes, better structure for calculation so it's not so \"run it once and it takes an hour\"\n",
    "* Update all the import/export database creation stuff\n",
    "    * Do a proper write-to-file and read-from-file function so you don't have to make all these API requests\n",
    "    * Make sure the read and write to-file functions can add just a few things at a time, or at least, avoid making duplicate API requests\n",
    "    * Pandas database?\n",
    "    * Secondary database for non-spreadsheet citations?\n",
    "* Look at connectivity on Wikipedia between network topics and graph topics"
   ]
  },
  {
   "cell_type": "code",
   "execution_count": 142,
   "metadata": {
    "collapsed": false,
    "scrolled": true
   },
   "outputs": [],
   "source": [
    "# Not currently being used \n",
    "import csv \n",
    "from matplotlib import pyplot as plt\n",
    "\n",
    "# For reading in bib.txt files\n",
    "import re\n",
    "import glob\n",
    "\n",
    "# For getting the spreadsheet\n",
    "import urllib\n",
    "import gspread\n",
    "import requests\n",
    "\n",
    "# For using the .py database classes\n",
    "import importlib\n",
    "import paperdatabase\n",
    "import numpy as np\n",
    "\n",
    "import time\n",
    "from bs4 import BeautifulSoup, Comment, NavigableString"
   ]
  },
  {
   "cell_type": "code",
   "execution_count": 145,
   "metadata": {
    "collapsed": false,
    "scrolled": false
   },
   "outputs": [
    {
     "name": "stdout",
     "output_type": "stream",
     "text": [
      "['Timestamp', 'CrossRef Verified', 'Link', 'DOI number', 'Year', 'Authors', 'Original?', 'Field of Study of Primary Author', 'Algorithm?', 'Title', 'Problem Attributes', 'Strategies', 'Notes']\n"
     ]
    }
   ],
   "source": [
    "importlib.reload(paperdatabase)\n",
    "db = paperdatabase.Database()\n",
    "#db.read_from_spreadsheet()\n",
    "print(db.sheet.row_values(1))"
   ]
  },
  {
   "cell_type": "code",
   "execution_count": null,
   "metadata": {
    "collapsed": true
   },
   "outputs": [],
   "source": []
  }
 ],
 "metadata": {
  "kernelspec": {
   "display_name": "Python 3",
   "language": "python",
   "name": "python3"
  },
  "language_info": {
   "codemirror_mode": {
    "name": "ipython",
    "version": 3
   },
   "file_extension": ".py",
   "mimetype": "text/x-python",
   "name": "python",
   "nbconvert_exporter": "python",
   "pygments_lexer": "ipython3",
   "version": "3.6.2"
  }
 },
 "nbformat": 4,
 "nbformat_minor": 0
}
